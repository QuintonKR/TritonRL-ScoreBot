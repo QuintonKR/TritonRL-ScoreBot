{
 "metadata": {
  "language_info": {
   "codemirror_mode": {
    "name": "ipython",
    "version": 3
   },
   "file_extension": ".py",
   "mimetype": "text/x-python",
   "name": "python",
   "nbconvert_exporter": "python",
   "pygments_lexer": "ipython3",
   "version": "3.8.3-final"
  },
  "orig_nbformat": 2,
  "kernelspec": {
   "name": "python3",
   "display_name": "Python 3",
   "language": "python"
  }
 },
 "nbformat": 4,
 "nbformat_minor": 2,
 "cells": [
  {
   "source": [
    "# Imports"
   ],
   "cell_type": "markdown",
   "metadata": {}
  },
  {
   "cell_type": "code",
   "execution_count": 1,
   "metadata": {},
   "outputs": [],
   "source": [
    "import pandas as pd\n",
    "pd.set_option('display.max_rows', 500)\n",
    "pd.set_option('display.max_columns', 500)\n",
    "from sklearn.preprocessing import MinMaxScaler"
   ]
  },
  {
   "source": [
    "# Helper Functions "
   ],
   "cell_type": "markdown",
   "metadata": {}
  },
  {
   "source": [
    "## Helper Functions for cleaning data from Ballchasing.com"
   ],
   "cell_type": "markdown",
   "metadata": {}
  },
  {
   "source": [
    "def get_totals(df):\n",
    "    # Select only the columns that contain the total counts for each statistic over the course of the season.\n",
    "    total = df[[\n",
    "    'team name', 'player name', 'games', 'wins', 'score', 'goals', 'assists', 'saves', 'shots', 'shots conceded', 'goals conceded',\n",
    "    'goals conceded while last defender', 'amount collected', 'amount collected big pads', 'amount collected small pads',  \n",
    "    'count collected big pads', 'count collected small pads','amount stolen', 'amount stolen big pads', 'amount stolen small pads',\n",
    "    'count stolen big pads', 'count stolen small pads', '0 boost time', '100 boost time', 'amount used while supersonic',\n",
    "    'amount overfill total','amount overfill stolen', 'total distance', 'time slow speed', 'time boost speed', 'time supersonic speed',\n",
    "    'time on ground', 'time low in air', 'time high in air', 'time powerslide','count powerslide','time most back', 'time most forward',\n",
    "    'time in front of ball','time behind ball', 'time defensive half', 'time offensive half', 'time defensive third', 'time neutral third',\n",
    "    'time offensive third','demos inflicted', 'demos taken'\n",
    "    ]]\n",
    "    # Lowercase all playernames for consistency.\n",
    "    total['player name'] = total[\"player name\"].str.lower() \n",
    "    # Since we only have a dataframe of total statistics, we can group by player to account for BallChasing.com accidently mismanaging \n",
    "    # team and player relationships. This is acting as a merge between rows where playernames match but the teams names didnt. \n",
    "    cleaned_data = total.groupby(['player name']).sum().reset_index()\n",
    "    return cleaned_data"
   ],
   "cell_type": "code",
   "metadata": {},
   "execution_count": 2,
   "outputs": []
  },
  {
   "cell_type": "code",
   "execution_count": 3,
   "metadata": {},
   "outputs": [],
   "source": [
    "def average_player_statistics(cleaned_data):\n",
    "    # In order to round the data to the nearest thousandth, we need to remove all columns without int datatypes. I divide the total\n",
    "    # statistics for every player by the total number of (recorded) games that they have played and uploaded replays. \n",
    "    per_game_stats = cleaned_data.iloc[:,2:].div(cleaned_data.games, axis=0).round(4)\n",
    "    # This is theseries that contains all columns without int datatypes, in other words all of the players. \n",
    "    players = cleaned_data.iloc[:,:2]\n",
    "    # Then we merge these back together for the final dataframe.\n",
    "    final_df = pd.concat([players, per_game_stats], axis=1)\n",
    "    # return df so we can \n",
    "    return final_df"
   ]
  },
  {
   "cell_type": "code",
   "execution_count": 4,
   "metadata": {},
   "outputs": [],
   "source": [
    "def remove_player_statistics(df, lst):\n",
    "    # Provide as input a list of player names to be drop from this dataframe. \n",
    "    return df[~df['player name'].isin(lst)]"
   ]
  },
  {
   "cell_type": "code",
   "execution_count": 5,
   "metadata": {},
   "outputs": [],
   "source": [
    "def patch_duplicates(df, dictionary):\n",
    "    all_players = [list(dictionary.keys()), list(dictionary.values())]\n",
    "    flattened = [item for sublist in all_players for item in sublist]\n",
    "    # data = df.set_index('player name', drop = True, verify_integrity = True)\n",
    "    data = df.set_index('player name', drop = True)\n",
    "    # Remove players \n",
    "    patched_data = data.loc[flattened]\n",
    "    patched_data = patched_data.rename(index=dictionary)\n",
    "    patched_data = patched_data.reset_index(drop = False)\\\n",
    "        .groupby(['player name']).sum()\\\n",
    "            .reset_index(drop=False)\n",
    "    # Removed players that we combined so we can recombine them\n",
    "    removed_duplicates = remove_player_statistics(df, flattened).reset_index(drop = True)\n",
    "    # Combine the two\n",
    "    patched_dataframe = pd.concat([removed_duplicates, patched_data])\n",
    "    return patched_dataframe.reset_index(drop=True)"
   ]
  },
  {
   "source": [
    "## Helper Functions for generating player standings "
   ],
   "cell_type": "markdown",
   "metadata": {}
  },
  {
   "source": [
    "Current Season = TRL Winter 2021 Tournament\n",
    "\n",
    "Win Rate\n",
    "\n",
    "Offensive Rating\n",
    "- score per game + shots per game + assists per game + shooting percentage + time most forward per game + time offensive half per game + time neurtal third per game + time offensive third per game\n",
    "\n",
    "Defensive Rating\n",
    "- score per game + saves per game + goals conceded per game + goals conceded while last defender per game + time most back per game + time defensive half per game + time neurtal third per game + time defensive third per game\n",
    "\n",
    "Aggression\n",
    "- shots per game + average speed per game + amount stolen per game + amount stolen big pads per game + amount stolen small pads per game + time offensive half per game + demos inflicted per game + demos taken per game + time powerslide per game + avg powerslide time per game + count powerslide per game\n",
    "\n",
    "Speed\n",
    "- bpm per game + avg boost amount per game + time supersonic per game +total distance per game + avg speed per game + average amount used while supersonic per game + amount collected per game + amount collected big pads per game + amount collected small pads per game + 0 boost time per game + 100 boost time per game + amount used while supersonic per game + time slow speed per game + time boost speed per game + time supersonic speed per game"
   ],
   "cell_type": "markdown",
   "metadata": {}
  },
  {
   "cell_type": "code",
   "execution_count": 6,
   "metadata": {},
   "outputs": [],
   "source": [
    "def offensive_stats(df):\n",
    "    # Select all columns with relevant data \n",
    "    Offensive = df[[\n",
    "        'player name', 'score', 'shots', 'assists',\n",
    "        'time most forward','time offensive half',\n",
    "        'time neutral third','time offensive third'\n",
    "        ]]\n",
    "    # Create a new column with the calculated offensive rating value based on original column data calculations\n",
    "    Offensive['Offensive Rating'] = .05*Offensive['score'] + .2*Offensive['shots'] \\\n",
    "                                + .05*Offensive['assists'] + .05*Offensive['time most forward'] + .05*Offensive['time neutral third'] \\\n",
    "                                + .1*Offensive['time offensive third'] \n",
    "    # The we use the MinMaxScaler from SKLearn to normalize all of the values and to generate ranks. \n",
    "    scaler = MinMaxScaler()\n",
    "    Offensive['Offensive Rating']  = scaler.fit_transform(Offensive[['Offensive Rating']])\n",
    "    # Return the DataFrame containing [player name, offensive rating] \n",
    "    # Columns in sorted order with respect to Offensive rating  \n",
    "    return Offensive.sort_values('Offensive Rating',ascending=False)[['player name', 'Offensive Rating']]"
   ]
  },
  {
   "cell_type": "code",
   "execution_count": 7,
   "metadata": {},
   "outputs": [],
   "source": [
    "def defensive_stats(df):\n",
    "    # Select all columns with relevant data \n",
    "    Defensive = df[[\n",
    "        'player name', 'score', 'saves','goals conceded','goals conceded while last defender',\n",
    "        'time most back','time defensive half','time neutral third','time defensive third'\n",
    "        ]]\n",
    "    # Create a new column with the calculated defensive rating value based on original column data calculations\n",
    "    Defensive['Defensive Rating'] = .05* Defensive['score']  + .2*Defensive['saves'] + .05*Defensive['goals conceded'] +\\\n",
    "                                    .1*Defensive['goals conceded while last defender']+ .1*Defensive['time most back'] +\\\n",
    "                                    .15*Defensive['time defensive half'] + .1 * Defensive['time neutral third'] +\\\n",
    "                                    .05 * Defensive['time defensive third']\n",
    "    # The we use the MinMaxScaler from SKLearn to normalize all of the values and to generate ranks. \n",
    "    scaler = MinMaxScaler()\n",
    "    Defensive['Defensive Rating']  = scaler.fit_transform(Defensive[['Defensive Rating']])\n",
    "    # Return the DataFrame containing [player name, defensive rating] \n",
    "    # Columns in sorted order with respect to Offensive rating  \n",
    "    return Defensive.sort_values('Defensive Rating',ascending=False)[['player name', 'Defensive Rating']]"
   ]
  },
  {
   "cell_type": "code",
   "execution_count": 8,
   "metadata": {},
   "outputs": [],
   "source": [
    "def aggression_stats(df):\n",
    "    # Select all columns with relevant data \n",
    "    Aggression = df[[\n",
    "        'player name', 'shots', 'amount stolen', 'amount stolen big pads', 'amount stolen small pads',\n",
    "        'time offensive half','demos inflicted','demos taken','time powerslide','count powerslide'\n",
    "        ]]\n",
    "    # Create a new column with the calculated defensive rating value based on original column data calculations\n",
    "    Aggression['Aggression Rating'] = .2*Aggression['shots'] +.025*Aggression['amount stolen']+ .05*Aggression['amount stolen big pads']+\\\n",
    "                                        .025*Aggression['amount stolen small pads'] + .075*Aggression['time offensive half'] +\\\n",
    "                                        .2*Aggression['demos inflicted'] + .025*Aggression['demos taken'] +\\\n",
    "                                        .05*Aggression['time powerslide'] + .15*Aggression['count powerslide']\n",
    "    # The we use the MinMaxScaler from SKLearn to normalize all of the values and to generate ranks.\n",
    "    scaler = MinMaxScaler()\n",
    "    Aggression['Aggression Rating']  = scaler.fit_transform(Aggression[['Aggression Rating']])\n",
    "    # Return the DataFrame containing [player name, aggression rating] \n",
    "    # Columns in sorted order with respect to aggression rating  \n",
    "    return Aggression.sort_values('Aggression Rating',ascending=False)[['player name', 'Aggression Rating']]"
   ]
  },
  {
   "cell_type": "code",
   "execution_count": 9,
   "metadata": {},
   "outputs": [],
   "source": [
    "def speed_stats(df):\n",
    "    # Select all columns with relevant data \n",
    "    Speed = df[[\n",
    "        'player name','total distance','amount collected','amount collected big pads','amount collected small pads',\n",
    "        '0 boost time','100 boost time','amount used while supersonic','time slow speed','time boost speed','time supersonic speed'\n",
    "        ]]\n",
    "    # Create a new column with the calculated defensive rating value based on original column data calculations\n",
    "    Speed['Speed Rating'] = + 4*Speed['total distance']\\\n",
    "                        + (-3*Speed['amount used while supersonic']) + 1*Speed['amount collected']\\\n",
    "                        + 1*Speed['amount collected big pads'] + 2*Speed['amount collected small pads'] + (-3*Speed['0 boost time'])\\\n",
    "                        + 3*Speed['100 boost time'] + -1*Speed['time slow speed'] + 1*Speed['time boost speed']\\\n",
    "                        + 3*Speed['time supersonic speed']\n",
    "    # The we use the MinMaxScaler from SKLearn to normalize all of the values and to generate ranks.\n",
    "    scaler = MinMaxScaler()\n",
    "    # Return the DataFrame containing [player name, speed rating] \n",
    "    # Columns in sorted order with respect to speed rating  \n",
    "    Speed['Speed Rating'] = scaler.fit_transform(Speed[['Speed Rating']])\n",
    "    return Speed.sort_values('Speed Rating',ascending=False)[['player name', 'Speed Rating']]"
   ]
  },
  {
   "source": [
    "## Helper Functions to Generate Final Overall Standings DataFrame"
   ],
   "cell_type": "markdown",
   "metadata": {}
  },
  {
   "cell_type": "code",
   "execution_count": 10,
   "metadata": {},
   "outputs": [],
   "source": [
    "def generate_overall_standings(df, offensive_stats, defensive_stats, aggression_stats, speed_stats):\n",
    "    # Take name and win rate from cleaned dataframe\n",
    "    final_df = df[['player name', 'wins']]\n",
    "    # Add the offensive player ratings to final df by merging on playername.\n",
    "    final_df = final_df.merge(offensive_stats, how='left')\n",
    "    # Add the defensive player ratings to final df by merging on playername.\n",
    "    final_df = final_df.merge(defensive_stats, how='left')\n",
    "    # Add the aggression player ratings to final df by merging on playername.\n",
    "    final_df = final_df.merge(aggression_stats, how='left')\n",
    "    # Add the speed player ratings to final df by merging on playername.\n",
    "    final_df = final_df.merge(speed_stats, how='left')\n",
    "\n",
    "    # Formatting by reordering columns in a readable format. \n",
    "    overalls = final_df[['player name','wins','Offensive Rating', 'Defensive Rating', 'Aggression Rating', 'Speed Rating']]\n",
    "\n",
    "    # Generate overall standings based on all generated stats\n",
    "    overalls['Total Overall'] = .3*overalls['Offensive Rating'] + .2*overalls['Defensive Rating'] +\\\n",
    "                                .35*overalls['Aggression Rating'] + .15*overalls['Speed Rating']\n",
    "    # Scaler for normalization                             \n",
    "    scaler = MinMaxScaler()\n",
    "    # Normalize\n",
    "    overalls['Total Overall'] = scaler.fit_transform(overalls[['Total Overall']])\n",
    "    # Sort values by total overall score\n",
    "    total_overalls = overalls.sort_values('Total Overall',ascending=False)\n",
    "\n",
    "    # Formatting for easier human readability\n",
    "    total_overalls.reset_index(drop=True).round(3)\n",
    "    total_overalls['Offensive Rating'] = total_overalls['Offensive Rating'] *100 \n",
    "    total_overalls['Defensive Rating'] = total_overalls['Defensive Rating'] *100 \n",
    "    total_overalls['Aggression Rating'] = total_overalls['Aggression Rating'] *100 \n",
    "    total_overalls['Speed Rating'] = total_overalls['Speed Rating'] *100 \n",
    "    total_overalls['Total Overall'] = total_overalls['Total Overall'] *100 \n",
    "\n",
    "    # Display the final dataframe for people to inspect\n",
    "    results = total_overalls[[\n",
    "        'player name', 'wins', 'Total Overall',\n",
    "        'Offensive Rating', 'Defensive Rating', 'Aggression Rating', 'Speed Rating']]\\\n",
    "            .round(2).reset_index(drop=True)\\\n",
    "                .rename(columns={\n",
    "                    \"player name\": \"participant\",\n",
    "                    'wins': 'win rate',\n",
    "                    \"Total Overall\": \"Overall\",\n",
    "                    'Offensive Rating': 'Offense',\n",
    "                    'Defensive Rating': 'Defense',\n",
    "                    'Aggression Rating':'Aggression',\n",
    "                    'Speed Rating': 'Speed'})\n",
    "\n",
    "    return results\n"
   ]
  },
  {
   "source": [
    "# Load in Fall 2020 player data"
   ],
   "cell_type": "markdown",
   "metadata": {}
  },
  {
   "cell_type": "code",
   "execution_count": 91,
   "metadata": {},
   "outputs": [],
   "source": [
    "fall_2020 = 'data\\TRL_F20_playerdata_final.csv'\n",
    "df = pd.read_csv(fall_2020)\n",
    "fall_2020_totals = get_totals(df)\n",
    "fall_2020_averages = average_player_statistics(fall_2020_totals)"
   ]
  },
  {
   "source": [
    "# Load in Winter Player Data"
   ],
   "cell_type": "markdown",
   "metadata": {}
  },
  {
   "cell_type": "code",
   "execution_count": 11,
   "metadata": {},
   "outputs": [],
   "source": [
    "winter_2021 = 'data\\TRL_W21_playerdata.csv'\n",
    "winter_2021 = pd.read_csv(winter_2021)"
   ]
  },
  {
   "source": [
    "# Calculate Overalls "
   ],
   "cell_type": "markdown",
   "metadata": {}
  },
  {
   "cell_type": "code",
   "execution_count": 12,
   "metadata": {},
   "outputs": [],
   "source": [
    "winter_2021_totals = get_totals(winter_2021)\n",
    "\n",
    "name_changes = {'invincibleblaze':'invincible','nsdlakers4': 'shaunch'}\n",
    "# Add a helper function to combine players who have changed their steam/user name\n",
    "patched_totals = patch_duplicates(winter_2021_totals, name_changes)\n",
    "# Convert totals to averages \n",
    "winter_2021_averages = average_player_statistics(patched_totals)\n",
    "# We can remove players that shouldnt be in this dataframewith the next helper function. \n",
    "players_to_drop = ['squishy', 'tag cramification', 'yegs', 'goofy']\n",
    "\n",
    "TRL_W21_WK1 = remove_player_statistics(winter_2021_averages, players_to_drop)\n",
    "\n",
    "# Calculate Relevant Stats \n",
    "offensive_df = offensive_stats(TRL_W21_WK1)\n",
    "defensive_df = defensive_stats(TRL_W21_WK1)\n",
    "aggression_df = aggression_stats(TRL_W21_WK1)\n",
    "speed_df = speed_stats(TRL_W21_WK1)\n",
    "\n",
    "# Create standings dataframe \n",
    "standings = generate_overall_standings(TRL_W21_WK1, offensive_df, defensive_df, aggression_df, speed_df)"
   ]
  },
  {
   "cell_type": "code",
   "execution_count": 13,
   "metadata": {},
   "outputs": [],
   "source": [
    "# patched_totals.head()"
   ]
  },
  {
   "cell_type": "code",
   "execution_count": 14,
   "metadata": {},
   "outputs": [],
   "source": [
    "# patched_totals.corr().head()"
   ]
  },
  {
   "cell_type": "code",
   "execution_count": 15,
   "metadata": {},
   "outputs": [
    {
     "output_type": "execute_result",
     "data": {
      "text/plain": [
       "       participant  win rate  Overall  Offense  Defense  Aggression   Speed\n",
       "0       invincible      0.56   100.00    86.71    24.29      100.00   91.05\n",
       "1          ix mini      0.73    85.43   100.00    46.22       48.71   85.55\n",
       "2     greensleeves      0.53    82.62    93.45    48.23       59.50   57.40\n",
       "3          shaunch      0.47    79.49    75.95    38.30       57.97   94.32\n",
       "4           rj5588      0.11    74.56    85.51   100.00        2.02  100.00\n",
       "5          luisito      0.44    74.48    76.49    57.74       55.88   48.32\n",
       "6       terminator      0.73    72.71    85.76    42.36       51.54   52.01\n",
       "7          muffled      0.45    67.47    79.57    37.13       44.50   62.84\n",
       "8  inf3ct3ds0ldi3r      0.45    65.63    83.02    55.92       32.38   50.42\n",
       "9         brictone      0.11    63.96    61.33    60.98       39.00   63.65"
      ],
      "text/html": "<div>\n<style scoped>\n    .dataframe tbody tr th:only-of-type {\n        vertical-align: middle;\n    }\n\n    .dataframe tbody tr th {\n        vertical-align: top;\n    }\n\n    .dataframe thead th {\n        text-align: right;\n    }\n</style>\n<table border=\"1\" class=\"dataframe\">\n  <thead>\n    <tr style=\"text-align: right;\">\n      <th></th>\n      <th>participant</th>\n      <th>win rate</th>\n      <th>Overall</th>\n      <th>Offense</th>\n      <th>Defense</th>\n      <th>Aggression</th>\n      <th>Speed</th>\n    </tr>\n  </thead>\n  <tbody>\n    <tr>\n      <th>0</th>\n      <td>invincible</td>\n      <td>0.56</td>\n      <td>100.00</td>\n      <td>86.71</td>\n      <td>24.29</td>\n      <td>100.00</td>\n      <td>91.05</td>\n    </tr>\n    <tr>\n      <th>1</th>\n      <td>ix mini</td>\n      <td>0.73</td>\n      <td>85.43</td>\n      <td>100.00</td>\n      <td>46.22</td>\n      <td>48.71</td>\n      <td>85.55</td>\n    </tr>\n    <tr>\n      <th>2</th>\n      <td>greensleeves</td>\n      <td>0.53</td>\n      <td>82.62</td>\n      <td>93.45</td>\n      <td>48.23</td>\n      <td>59.50</td>\n      <td>57.40</td>\n    </tr>\n    <tr>\n      <th>3</th>\n      <td>shaunch</td>\n      <td>0.47</td>\n      <td>79.49</td>\n      <td>75.95</td>\n      <td>38.30</td>\n      <td>57.97</td>\n      <td>94.32</td>\n    </tr>\n    <tr>\n      <th>4</th>\n      <td>rj5588</td>\n      <td>0.11</td>\n      <td>74.56</td>\n      <td>85.51</td>\n      <td>100.00</td>\n      <td>2.02</td>\n      <td>100.00</td>\n    </tr>\n    <tr>\n      <th>5</th>\n      <td>luisito</td>\n      <td>0.44</td>\n      <td>74.48</td>\n      <td>76.49</td>\n      <td>57.74</td>\n      <td>55.88</td>\n      <td>48.32</td>\n    </tr>\n    <tr>\n      <th>6</th>\n      <td>terminator</td>\n      <td>0.73</td>\n      <td>72.71</td>\n      <td>85.76</td>\n      <td>42.36</td>\n      <td>51.54</td>\n      <td>52.01</td>\n    </tr>\n    <tr>\n      <th>7</th>\n      <td>muffled</td>\n      <td>0.45</td>\n      <td>67.47</td>\n      <td>79.57</td>\n      <td>37.13</td>\n      <td>44.50</td>\n      <td>62.84</td>\n    </tr>\n    <tr>\n      <th>8</th>\n      <td>inf3ct3ds0ldi3r</td>\n      <td>0.45</td>\n      <td>65.63</td>\n      <td>83.02</td>\n      <td>55.92</td>\n      <td>32.38</td>\n      <td>50.42</td>\n    </tr>\n    <tr>\n      <th>9</th>\n      <td>brictone</td>\n      <td>0.11</td>\n      <td>63.96</td>\n      <td>61.33</td>\n      <td>60.98</td>\n      <td>39.00</td>\n      <td>63.65</td>\n    </tr>\n  </tbody>\n</table>\n</div>"
     },
     "metadata": {},
     "execution_count": 15
    }
   ],
   "source": [
    "standings.head(10)"
   ]
  },
  {
   "cell_type": "code",
   "execution_count": null,
   "metadata": {},
   "outputs": [],
   "source": [
    "#  Deeplearning Based Overall "
   ]
  },
  {
   "cell_type": "code",
   "execution_count": null,
   "metadata": {},
   "outputs": [],
   "source": [
    "# TODO \n",
    "# Attempt to assign overalls to players by apply K means clustering to them to assign groups\n",
    "# and then normalize to assign rank within each cluster"
   ]
  }
 ]
}