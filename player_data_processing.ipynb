{
 "metadata": {
  "language_info": {
   "codemirror_mode": {
    "name": "ipython",
    "version": 3
   },
   "file_extension": ".py",
   "mimetype": "text/x-python",
   "name": "python",
   "nbconvert_exporter": "python",
   "pygments_lexer": "ipython3",
   "version": "3.8.3-final"
  },
  "orig_nbformat": 2,
  "kernelspec": {
   "name": "python3",
   "display_name": "Python 3",
   "language": "python"
  }
 },
 "nbformat": 4,
 "nbformat_minor": 2,
 "cells": [
  {
   "source": [
    "# Imports"
   ],
   "cell_type": "markdown",
   "metadata": {}
  },
  {
   "cell_type": "code",
   "execution_count": 1,
   "metadata": {},
   "outputs": [],
   "source": [
    "import pandas as pd\n",
    "pd.set_option('display.max_rows', 500)\n",
    "pd.set_option('display.max_columns', 500)\n",
    "from sklearn.preprocessing import MinMaxScaler"
   ]
  },
  {
   "source": [
    "# Helper Functions "
   ],
   "cell_type": "markdown",
   "metadata": {}
  },
  {
   "source": [
    "## Helper Functions for cleaning data from Ballchasing.com"
   ],
   "cell_type": "markdown",
   "metadata": {}
  },
  {
   "source": [
    "def get_totals(df):\n",
    "    # Select only the columns that contain the total counts for each statistic over the course of the season.\n",
    "    total = df[[\n",
    "    'team name', 'player name', 'games', 'wins', 'score', 'goals', 'assists', 'saves', 'shots', 'shots conceded', 'goals conceded',\n",
    "    'goals conceded while last defender', 'amount collected', 'amount collected big pads', 'amount collected small pads',  \n",
    "    'count collected big pads', 'count collected small pads','amount stolen', 'amount stolen big pads', 'amount stolen small pads',\n",
    "    'count stolen big pads', 'count stolen small pads', '0 boost time', '100 boost time', 'amount used while supersonic',\n",
    "    'amount overfill total','amount overfill stolen', 'total distance', 'time slow speed', 'time boost speed', 'time supersonic speed',\n",
    "    'time on ground', 'time low in air', 'time high in air', 'time powerslide','count powerslide','time most back', 'time most forward',\n",
    "    'time in front of ball','time behind ball', 'time defensive half', 'time offensive half', 'time defensive third', 'time neutral third',\n",
    "    'time offensive third','demos inflicted', 'demos taken'\n",
    "    ]]\n",
    "    # Lowercase all playernames for consistency.\n",
    "    total['player name'] = total[\"player name\"].str.lower() \n",
    "    # Since we only have a dataframe of total statistics, we can group by player to account for BallChasing.com accidently mismanaging \n",
    "    # team and player relationships. This is acting as a merge between rows where playernames match but the teams names didnt. \n",
    "    cleaned_data = total.groupby(['player name']).sum().reset_index()\n",
    "    return cleaned_data"
   ],
   "cell_type": "code",
   "metadata": {},
   "execution_count": 2,
   "outputs": []
  },
  {
   "cell_type": "code",
   "execution_count": 3,
   "metadata": {},
   "outputs": [],
   "source": [
    "def average_player_statistics(cleaned_data):\n",
    "    # In order to round the data to the nearest thousandth, we need to remove all columns without int datatypes. I divide the total\n",
    "    # statistics for every player by the total number of (recorded) games that they have played and uploaded replays. \n",
    "    per_game_stats = cleaned_data.iloc[:,2:].div(cleaned_data.games, axis=0).round(4)\n",
    "    # This is theseries that contains all columns without int datatypes, in other words all of the players. \n",
    "    players = cleaned_data.iloc[:,:2]\n",
    "    # Then we merge these back together for the final dataframe.\n",
    "    final_df = pd.concat([players, per_game_stats], axis=1)\n",
    "    # return df so we can \n",
    "    return final_df"
   ]
  },
  {
   "cell_type": "code",
   "execution_count": 4,
   "metadata": {},
   "outputs": [],
   "source": [
    "def remove_player_statistics(df, lst):\n",
    "    # Provide as input a list of player names to be drop from this dataframe. \n",
    "    return df[~df['player name'].isin(players_to_drop)]"
   ]
  },
  {
   "source": [
    "## Helper Functions for generating player standings "
   ],
   "cell_type": "markdown",
   "metadata": {}
  },
  {
   "source": [
    "Current Season = TRL Winter 2021 Tournament\n",
    "\n",
    "Win Rate\n",
    "\n",
    "Offensive Rating\n",
    "- score per game + shots per game + assists per game + shooting percentage + time most forward per game + time offensive half per game + time neurtal third per game + time offensive third per game\n",
    "\n",
    "Defensive Rating\n",
    "- score per game + saves per game + goals conceded per game + goals conceded while last defender per game + time most back per game + time defensive half per game + time neurtal third per game + time defensive third per game\n",
    "\n",
    "Aggression\n",
    "- shots per game + average speed per game + amount stolen per game + amount stolen big pads per game + amount stolen small pads per game + time offensive half per game + demos inflicted per game + demos taken per game + time powerslide per game + avg powerslide time per game + count powerslide per game\n",
    "\n",
    "Speed\n",
    "- bpm per game + avg boost amount per game + time supersonic per game +total distance per game + avg speed per game + average amount used while supersonic per game + amount collected per game + amount collected big pads per game + amount collected small pads per game + 0 boost time per game + 100 boost time per game + amount used while supersonic per game + time slow speed per game + time boost speed per game + time supersonic speed per game"
   ],
   "cell_type": "markdown",
   "metadata": {}
  },
  {
   "cell_type": "code",
   "execution_count": 5,
   "metadata": {},
   "outputs": [],
   "source": [
    "def offensive_stats(df):\n",
    "    # Select all columns with relevant data \n",
    "    Offensive = df[[\n",
    "        'player name', 'score', 'shots', 'assists',\n",
    "        'time most forward','time offensive half',\n",
    "        'time neutral third','time offensive third'\n",
    "        ]]\n",
    "    # Create a new column with the calculated offensive rating value based on original column data calculations\n",
    "    Offensive['Offensive Rating'] = .05*Offensive['score'] + .2*Offensive['shots'] \\\n",
    "                                + .05*Offensive['assists'] + .05*Offensive['time most forward'] + .05*Offensive['time neutral third'] \\\n",
    "                                + .1*Offensive['time offensive third'] \n",
    "    # The we use the MinMaxScaler from SKLearn to normalize all of the values and to generate ranks. \n",
    "    scaler = MinMaxScaler()\n",
    "    Offensive['Offensive Rating']  = scaler.fit_transform(Offensive[['Offensive Rating']])\n",
    "    # Return the DataFrame containing [player name, offensive rating] \n",
    "    # Columns in sorted order with respect to Offensive rating  \n",
    "    return Offensive.sort_values('Offensive Rating',ascending=False)[['player name', 'Offensive Rating']]"
   ]
  },
  {
   "cell_type": "code",
   "execution_count": 6,
   "metadata": {},
   "outputs": [],
   "source": [
    "def defensive_stats(df):\n",
    "    # Select all columns with relevant data \n",
    "    Defensive = df[[\n",
    "        'player name', 'score', 'saves','goals conceded','goals conceded while last defender',\n",
    "        'time most back','time defensive half','time neutral third','time defensive third'\n",
    "        ]]\n",
    "    # Create a new column with the calculated defensive rating value based on original column data calculations\n",
    "    Defensive['Defensive Rating'] = .05* Defensive['score']  + .2*Defensive['saves'] + .05*Defensive['goals conceded'] +\\\n",
    "                                    .1*Defensive['goals conceded while last defender']+ .1*Defensive['time most back'] +\\\n",
    "                                    .15*Defensive['time defensive half'] + .1 * Defensive['time neutral third'] +\\\n",
    "                                    .05 * Defensive['time defensive third']\n",
    "    # The we use the MinMaxScaler from SKLearn to normalize all of the values and to generate ranks. \n",
    "    scaler = MinMaxScaler()\n",
    "    Defensive['Defensive Rating']  = scaler.fit_transform(Defensive[['Defensive Rating']])\n",
    "    # Return the DataFrame containing [player name, defensive rating] \n",
    "    # Columns in sorted order with respect to Offensive rating  \n",
    "    return Defensive.sort_values('Defensive Rating',ascending=False)[['player name', 'Defensive Rating']]"
   ]
  },
  {
   "cell_type": "code",
   "execution_count": 7,
   "metadata": {},
   "outputs": [],
   "source": [
    "def aggression_stats(df):\n",
    "    # Select all columns with relevant data \n",
    "    Aggression = df[[\n",
    "        'player name', 'shots', 'amount stolen', 'amount stolen big pads', 'amount stolen small pads',\n",
    "        'time offensive half','demos inflicted','demos taken','time powerslide','count powerslide'\n",
    "        ]]\n",
    "    # Create a new column with the calculated defensive rating value based on original column data calculations\n",
    "    Aggression['Aggression Rating'] = .2*Aggression['shots'] +.025*Aggression['amount stolen']+ .05*Aggression['amount stolen big pads']+\\\n",
    "                                        .025*Aggression['amount stolen small pads'] + .075*Aggression['time offensive half'] +\\\n",
    "                                        .2*Aggression['demos inflicted'] + .025*Aggression['demos taken'] +\\\n",
    "                                        .05*Aggression['time powerslide'] + .15*Aggression['count powerslide']\n",
    "    # The we use the MinMaxScaler from SKLearn to normalize all of the values and to generate ranks.\n",
    "    scaler = MinMaxScaler()\n",
    "    Aggression['Aggression Rating']  = scaler.fit_transform(Aggression[['Aggression Rating']])\n",
    "    # Return the DataFrame containing [player name, aggression rating] \n",
    "    # Columns in sorted order with respect to aggression rating  \n",
    "    return Aggression.sort_values('Aggression Rating',ascending=False)[['player name', 'Aggression Rating']]"
   ]
  },
  {
   "cell_type": "code",
   "execution_count": 16,
   "metadata": {},
   "outputs": [],
   "source": [
    "def speed_stats(df):\n",
    "    # Select all columns with relevant data \n",
    "    Speed = df[[\n",
    "        'player name','total distance','amount collected','amount collected big pads','amount collected small pads',\n",
    "        '0 boost time','100 boost time','amount used while supersonic','time slow speed','time boost speed','time supersonic speed'\n",
    "        ]]\n",
    "    # Create a new column with the calculated defensive rating value based on original column data calculations\n",
    "    Speed['Speed Rating'] = + 4*Speed['total distance']\\\n",
    "                        + (-3*Speed['amount used while supersonic']) + 1*Speed['amount collected']\\\n",
    "                        + 1*Speed['amount collected big pads'] + 2*Speed['amount collected small pads'] + (-3*Speed['0 boost time'])\\\n",
    "                        + 3*Speed['100 boost time'] + -1*Speed['time slow speed'] + 1*Speed['time boost speed']\\\n",
    "                        + 3*Speed['time supersonic speed']\n",
    "    # The we use the MinMaxScaler from SKLearn to normalize all of the values and to generate ranks.\n",
    "    scaler = MinMaxScaler()\n",
    "    # Return the DataFrame containing [player name, speed rating] \n",
    "    # Columns in sorted order with respect to speed rating  \n",
    "    Speed['Speed Rating'] = scaler.fit_transform(Speed[['Speed Rating']])\n",
    "    return Speed.sort_values('Speed Rating',ascending=False)[['player name', 'Speed Rating']]"
   ]
  },
  {
   "source": [
    "## Helper Functions to Generate Final Overall Standings DataFrame"
   ],
   "cell_type": "markdown",
   "metadata": {}
  },
  {
   "cell_type": "code",
   "execution_count": 24,
   "metadata": {},
   "outputs": [],
   "source": [
    "def generate_overall_standings(df, offensive_stats, defensive_stats, aggression_stats, speed_stats):\n",
    "    # Take name and win rate from cleaned dataframe\n",
    "    final_df = df[['player name', 'wins']]\n",
    "    # Add the offensive player ratings to final df by merging on playername.\n",
    "    final_df = final_df.merge(offensive_stats, how='left')\n",
    "    # Add the defensive player ratings to final df by merging on playername.\n",
    "    final_df = final_df.merge(defensive_stats, how='left')\n",
    "    # Add the aggression player ratings to final df by merging on playername.\n",
    "    final_df = final_df.merge(aggression_stats, how='left')\n",
    "    # Add the speed player ratings to final df by merging on playername.\n",
    "    final_df = final_df.merge(speed_stats, how='left')\n",
    "\n",
    "    # Formatting by reordering columns in a readable format. \n",
    "    overalls = final_df[['player name','wins','Offensive Rating', 'Defensive Rating', 'Aggression Rating', 'Speed Rating']]\n",
    "\n",
    "    # Generate overall standings based on all generated stats\n",
    "    overalls['Total Overall'] = .3*overalls['Offensive Rating'] + .2*overalls['Defensive Rating'] +\\\n",
    "                                .35*overalls['Aggression Rating'] + .15*overalls['Speed Rating']\n",
    "    # Scaler for normalization                             \n",
    "    scaler = MinMaxScaler()\n",
    "    # Normalize\n",
    "    overalls['Total Overall'] = scaler.fit_transform(overalls[['Total Overall']])\n",
    "    # Sort values by total overall score\n",
    "    total_overalls = overalls.sort_values('Total Overall',ascending=False)\n",
    "\n",
    "    # Formatting for easier human readability\n",
    "    total_overalls.reset_index(drop=True).round(3)\n",
    "    total_overalls['Offensive Rating'] = total_overalls['Offensive Rating'] *100 \n",
    "    total_overalls['Defensive Rating'] = total_overalls['Defensive Rating'] *100 \n",
    "    total_overalls['Aggression Rating'] = total_overalls['Aggression Rating'] *100 \n",
    "    total_overalls['Speed Rating'] = total_overalls['Speed Rating'] *100 \n",
    "    total_overalls['Total Overall'] = total_overalls['Total Overall'] *100 \n",
    "\n",
    "    # Display the final dataframe for people to inspect\n",
    "    results = total_overalls[[\n",
    "        'player name', 'wins', 'Total Overall',\n",
    "        'Offensive Rating', 'Defensive Rating', 'Aggression Rating', 'Speed Rating']]\\\n",
    "            .round(2).reset_index(drop=True)\\\n",
    "                .rename(columns={\n",
    "                    \"player name\": \"participant\",\n",
    "                    'wins': 'win rate',\n",
    "                    \"Total Overall\": \"Overall\",\n",
    "                    'Offensive Rating': 'Offense',\n",
    "                    'Defensive Rating': 'Defense',\n",
    "                    'Aggression Rating':'Aggression',\n",
    "                    'Speed Rating': 'Speed'})\n",
    "\n",
    "    return results\n"
   ]
  },
  {
   "source": [
    "# Load in Fall 2020 player data"
   ],
   "cell_type": "markdown",
   "metadata": {}
  },
  {
   "cell_type": "code",
   "execution_count": 9,
   "metadata": {},
   "outputs": [],
   "source": [
    "fall_2020 = 'data\\TRL_F20_playerdata_final.csv'\n",
    "df = pd.read_csv(fall_2020)\n",
    "fall_2020_totals = get_totals(df)\n",
    "fall_2020_averages = average_player_statistics(fall_2020_totals)"
   ]
  },
  {
   "source": [
    "# Load in Winter Player Data"
   ],
   "cell_type": "markdown",
   "metadata": {}
  },
  {
   "cell_type": "code",
   "execution_count": 10,
   "metadata": {},
   "outputs": [],
   "source": [
    "winter_2021 = 'data\\TRL_W21_playerdata.csv'\n",
    "winter_2021 = pd.read_csv(winter_2021)\n",
    "# winter_2021.head()\n",
    "winter_2021_totals = get_totals(winter_2021)\n",
    "winter_2021_averages = average_player_statistics(winter_2021_totals)"
   ]
  },
  {
   "cell_type": "code",
   "execution_count": 13,
   "metadata": {},
   "outputs": [],
   "source": [
    "# If there are any bots or players that shouldnt be in this dataframe, we can remove them with the next helper function. \n",
    "players_to_drop = ['squishy', 'tag cramification', 'yegs', 'goofy']\n",
    "TRL_W21_WK1 = remove_player_statistics(winter_2021_averages, players_to_drop)"
   ]
  },
  {
   "cell_type": "code",
   "execution_count": 14,
   "metadata": {},
   "outputs": [
    {
     "output_type": "execute_result",
     "data": {
      "text/plain": [
       "   player name  games    wins     score   goals  assists   saves   shots  \\\n",
       "0   adamamango     16  0.5625  308.8750  0.5000   0.6250  1.3125  2.1875   \n",
       "1         alex     10  0.5000  423.0000  1.0000   0.5000  1.6000  3.9000   \n",
       "2     brictone      9  0.1111  313.2222  0.5556   0.2222  1.5556  2.0000   \n",
       "3  casillas361     10  0.5000  136.5000  0.3000   0.3000  0.6000  0.8000   \n",
       "4      chyaboi     15  0.4667  352.4667  0.8000   0.2667  1.2667  2.6000   \n",
       "\n",
       "   shots conceded  goals conceded  goals conceded while last defender  \\\n",
       "0          7.0000          2.9375                              1.2500   \n",
       "1          7.4000          1.6000                              0.5000   \n",
       "2         11.1111          4.5556                              1.6667   \n",
       "3          7.4000          1.6000                              0.5000   \n",
       "4          6.8667          1.8667                              0.6667   \n",
       "\n",
       "   amount collected  amount collected big pads  amount collected small pads  \\\n",
       "0         1958.6250                  1354.4375                     604.1875   \n",
       "1         2112.8000                  1557.8000                     555.0000   \n",
       "2         2208.1111                  1406.8889                     801.2222   \n",
       "3         1708.0000                  1145.2000                     562.8000   \n",
       "4         2409.4667                  1723.6000                     685.8667   \n",
       "\n",
       "   count collected big pads  count collected small pads  amount stolen  \\\n",
       "0                   16.5000                     52.2500       418.8125   \n",
       "1                   20.2000                     47.8000       433.1000   \n",
       "2                   17.0000                     71.4444       452.2222   \n",
       "3                   13.2000                     47.4000       226.9000   \n",
       "4                   20.2667                     57.0000       443.8000   \n",
       "\n",
       "   amount stolen big pads  amount stolen small pads  count stolen big pads  \\\n",
       "0                259.8125                  159.0000                 3.1875   \n",
       "1                275.2000                  157.9000                 3.6000   \n",
       "2                269.3333                  182.8889                 3.2222   \n",
       "3                101.6000                  125.3000                 1.2000   \n",
       "4                256.2667                  187.5333                 2.9333   \n",
       "\n",
       "   count stolen small pads  0 boost time  100 boost time  \\\n",
       "0                  14.1250       37.1238         33.0513   \n",
       "1                  13.8000       27.1490         38.3350   \n",
       "2                  15.3333       47.7511         23.5144   \n",
       "3                  10.8000       56.5620         26.6830   \n",
       "4                  14.7333       52.3807         34.3160   \n",
       "\n",
       "   amount used while supersonic  amount overfill total  \\\n",
       "0                      155.7500               291.1250   \n",
       "1                      224.7000               479.0000   \n",
       "2                      241.1111               209.2222   \n",
       "3                      351.2000               161.3000   \n",
       "4                      258.4000               263.7333   \n",
       "\n",
       "   amount overfill stolen  total distance  time slow speed  time boost speed  \\\n",
       "0                 52.0000     504460.8125         183.6219          151.8619   \n",
       "1                 87.1000     505873.3000         148.6090          145.2860   \n",
       "2                 24.5556     519643.2222         191.8667          151.4822   \n",
       "3                 18.8000     478884.0000         169.6070          143.4820   \n",
       "4                 26.8667     511015.8667         159.9353          145.7980   \n",
       "\n",
       "   time supersonic speed  time on ground  time low in air  time high in air  \\\n",
       "0                33.9175        217.1369         143.4581            8.8025   \n",
       "1                46.5290        192.4760         134.3310           13.6130   \n",
       "2                34.1578        235.7833         131.0656           10.6556   \n",
       "3                29.7830        240.7610          95.8530            6.2580   \n",
       "4                47.2707        199.0840         140.2393           13.6813   \n",
       "\n",
       "   time powerslide  count powerslide  time most back  time most forward  \\\n",
       "0           8.2150           50.0625        136.6188           107.6500   \n",
       "1           5.4500           52.8000         98.4900           131.4100   \n",
       "2           8.5278           67.1111        149.7667           169.8111   \n",
       "3          10.3330           91.6000        117.7400            95.0500   \n",
       "4           7.8713           73.0000        116.7400           109.1867   \n",
       "\n",
       "   time in front of ball  time behind ball  time defensive half  \\\n",
       "0               100.6025          268.7962             241.7719   \n",
       "1                77.8540          262.5670             214.9510   \n",
       "2               128.6300          248.8778             264.5378   \n",
       "3                82.3240          260.5480             242.4530   \n",
       "4                93.3007          259.7060             235.5227   \n",
       "\n",
       "   time offensive half  time defensive third  time neutral third  \\\n",
       "0             127.6269              175.4225            120.1619   \n",
       "1             125.4730              157.5580            109.3640   \n",
       "2             112.9578              200.4967            115.7611   \n",
       "3             100.4170              185.9450            101.2400   \n",
       "4             117.4827              174.9527            110.1773   \n",
       "\n",
       "   time offensive third  demos inflicted  demos taken  \n",
       "0               73.8150           0.3750       1.0000  \n",
       "1               73.4990           1.0000       1.4000  \n",
       "2               61.2478           0.5556       1.1111  \n",
       "3               55.6880           0.2000       0.6000  \n",
       "4               67.8780           0.8000       1.0000  "
      ],
      "text/html": "<div>\n<style scoped>\n    .dataframe tbody tr th:only-of-type {\n        vertical-align: middle;\n    }\n\n    .dataframe tbody tr th {\n        vertical-align: top;\n    }\n\n    .dataframe thead th {\n        text-align: right;\n    }\n</style>\n<table border=\"1\" class=\"dataframe\">\n  <thead>\n    <tr style=\"text-align: right;\">\n      <th></th>\n      <th>player name</th>\n      <th>games</th>\n      <th>wins</th>\n      <th>score</th>\n      <th>goals</th>\n      <th>assists</th>\n      <th>saves</th>\n      <th>shots</th>\n      <th>shots conceded</th>\n      <th>goals conceded</th>\n      <th>goals conceded while last defender</th>\n      <th>amount collected</th>\n      <th>amount collected big pads</th>\n      <th>amount collected small pads</th>\n      <th>count collected big pads</th>\n      <th>count collected small pads</th>\n      <th>amount stolen</th>\n      <th>amount stolen big pads</th>\n      <th>amount stolen small pads</th>\n      <th>count stolen big pads</th>\n      <th>count stolen small pads</th>\n      <th>0 boost time</th>\n      <th>100 boost time</th>\n      <th>amount used while supersonic</th>\n      <th>amount overfill total</th>\n      <th>amount overfill stolen</th>\n      <th>total distance</th>\n      <th>time slow speed</th>\n      <th>time boost speed</th>\n      <th>time supersonic speed</th>\n      <th>time on ground</th>\n      <th>time low in air</th>\n      <th>time high in air</th>\n      <th>time powerslide</th>\n      <th>count powerslide</th>\n      <th>time most back</th>\n      <th>time most forward</th>\n      <th>time in front of ball</th>\n      <th>time behind ball</th>\n      <th>time defensive half</th>\n      <th>time offensive half</th>\n      <th>time defensive third</th>\n      <th>time neutral third</th>\n      <th>time offensive third</th>\n      <th>demos inflicted</th>\n      <th>demos taken</th>\n    </tr>\n  </thead>\n  <tbody>\n    <tr>\n      <th>0</th>\n      <td>adamamango</td>\n      <td>16</td>\n      <td>0.5625</td>\n      <td>308.8750</td>\n      <td>0.5000</td>\n      <td>0.6250</td>\n      <td>1.3125</td>\n      <td>2.1875</td>\n      <td>7.0000</td>\n      <td>2.9375</td>\n      <td>1.2500</td>\n      <td>1958.6250</td>\n      <td>1354.4375</td>\n      <td>604.1875</td>\n      <td>16.5000</td>\n      <td>52.2500</td>\n      <td>418.8125</td>\n      <td>259.8125</td>\n      <td>159.0000</td>\n      <td>3.1875</td>\n      <td>14.1250</td>\n      <td>37.1238</td>\n      <td>33.0513</td>\n      <td>155.7500</td>\n      <td>291.1250</td>\n      <td>52.0000</td>\n      <td>504460.8125</td>\n      <td>183.6219</td>\n      <td>151.8619</td>\n      <td>33.9175</td>\n      <td>217.1369</td>\n      <td>143.4581</td>\n      <td>8.8025</td>\n      <td>8.2150</td>\n      <td>50.0625</td>\n      <td>136.6188</td>\n      <td>107.6500</td>\n      <td>100.6025</td>\n      <td>268.7962</td>\n      <td>241.7719</td>\n      <td>127.6269</td>\n      <td>175.4225</td>\n      <td>120.1619</td>\n      <td>73.8150</td>\n      <td>0.3750</td>\n      <td>1.0000</td>\n    </tr>\n    <tr>\n      <th>1</th>\n      <td>alex</td>\n      <td>10</td>\n      <td>0.5000</td>\n      <td>423.0000</td>\n      <td>1.0000</td>\n      <td>0.5000</td>\n      <td>1.6000</td>\n      <td>3.9000</td>\n      <td>7.4000</td>\n      <td>1.6000</td>\n      <td>0.5000</td>\n      <td>2112.8000</td>\n      <td>1557.8000</td>\n      <td>555.0000</td>\n      <td>20.2000</td>\n      <td>47.8000</td>\n      <td>433.1000</td>\n      <td>275.2000</td>\n      <td>157.9000</td>\n      <td>3.6000</td>\n      <td>13.8000</td>\n      <td>27.1490</td>\n      <td>38.3350</td>\n      <td>224.7000</td>\n      <td>479.0000</td>\n      <td>87.1000</td>\n      <td>505873.3000</td>\n      <td>148.6090</td>\n      <td>145.2860</td>\n      <td>46.5290</td>\n      <td>192.4760</td>\n      <td>134.3310</td>\n      <td>13.6130</td>\n      <td>5.4500</td>\n      <td>52.8000</td>\n      <td>98.4900</td>\n      <td>131.4100</td>\n      <td>77.8540</td>\n      <td>262.5670</td>\n      <td>214.9510</td>\n      <td>125.4730</td>\n      <td>157.5580</td>\n      <td>109.3640</td>\n      <td>73.4990</td>\n      <td>1.0000</td>\n      <td>1.4000</td>\n    </tr>\n    <tr>\n      <th>2</th>\n      <td>brictone</td>\n      <td>9</td>\n      <td>0.1111</td>\n      <td>313.2222</td>\n      <td>0.5556</td>\n      <td>0.2222</td>\n      <td>1.5556</td>\n      <td>2.0000</td>\n      <td>11.1111</td>\n      <td>4.5556</td>\n      <td>1.6667</td>\n      <td>2208.1111</td>\n      <td>1406.8889</td>\n      <td>801.2222</td>\n      <td>17.0000</td>\n      <td>71.4444</td>\n      <td>452.2222</td>\n      <td>269.3333</td>\n      <td>182.8889</td>\n      <td>3.2222</td>\n      <td>15.3333</td>\n      <td>47.7511</td>\n      <td>23.5144</td>\n      <td>241.1111</td>\n      <td>209.2222</td>\n      <td>24.5556</td>\n      <td>519643.2222</td>\n      <td>191.8667</td>\n      <td>151.4822</td>\n      <td>34.1578</td>\n      <td>235.7833</td>\n      <td>131.0656</td>\n      <td>10.6556</td>\n      <td>8.5278</td>\n      <td>67.1111</td>\n      <td>149.7667</td>\n      <td>169.8111</td>\n      <td>128.6300</td>\n      <td>248.8778</td>\n      <td>264.5378</td>\n      <td>112.9578</td>\n      <td>200.4967</td>\n      <td>115.7611</td>\n      <td>61.2478</td>\n      <td>0.5556</td>\n      <td>1.1111</td>\n    </tr>\n    <tr>\n      <th>3</th>\n      <td>casillas361</td>\n      <td>10</td>\n      <td>0.5000</td>\n      <td>136.5000</td>\n      <td>0.3000</td>\n      <td>0.3000</td>\n      <td>0.6000</td>\n      <td>0.8000</td>\n      <td>7.4000</td>\n      <td>1.6000</td>\n      <td>0.5000</td>\n      <td>1708.0000</td>\n      <td>1145.2000</td>\n      <td>562.8000</td>\n      <td>13.2000</td>\n      <td>47.4000</td>\n      <td>226.9000</td>\n      <td>101.6000</td>\n      <td>125.3000</td>\n      <td>1.2000</td>\n      <td>10.8000</td>\n      <td>56.5620</td>\n      <td>26.6830</td>\n      <td>351.2000</td>\n      <td>161.3000</td>\n      <td>18.8000</td>\n      <td>478884.0000</td>\n      <td>169.6070</td>\n      <td>143.4820</td>\n      <td>29.7830</td>\n      <td>240.7610</td>\n      <td>95.8530</td>\n      <td>6.2580</td>\n      <td>10.3330</td>\n      <td>91.6000</td>\n      <td>117.7400</td>\n      <td>95.0500</td>\n      <td>82.3240</td>\n      <td>260.5480</td>\n      <td>242.4530</td>\n      <td>100.4170</td>\n      <td>185.9450</td>\n      <td>101.2400</td>\n      <td>55.6880</td>\n      <td>0.2000</td>\n      <td>0.6000</td>\n    </tr>\n    <tr>\n      <th>4</th>\n      <td>chyaboi</td>\n      <td>15</td>\n      <td>0.4667</td>\n      <td>352.4667</td>\n      <td>0.8000</td>\n      <td>0.2667</td>\n      <td>1.2667</td>\n      <td>2.6000</td>\n      <td>6.8667</td>\n      <td>1.8667</td>\n      <td>0.6667</td>\n      <td>2409.4667</td>\n      <td>1723.6000</td>\n      <td>685.8667</td>\n      <td>20.2667</td>\n      <td>57.0000</td>\n      <td>443.8000</td>\n      <td>256.2667</td>\n      <td>187.5333</td>\n      <td>2.9333</td>\n      <td>14.7333</td>\n      <td>52.3807</td>\n      <td>34.3160</td>\n      <td>258.4000</td>\n      <td>263.7333</td>\n      <td>26.8667</td>\n      <td>511015.8667</td>\n      <td>159.9353</td>\n      <td>145.7980</td>\n      <td>47.2707</td>\n      <td>199.0840</td>\n      <td>140.2393</td>\n      <td>13.6813</td>\n      <td>7.8713</td>\n      <td>73.0000</td>\n      <td>116.7400</td>\n      <td>109.1867</td>\n      <td>93.3007</td>\n      <td>259.7060</td>\n      <td>235.5227</td>\n      <td>117.4827</td>\n      <td>174.9527</td>\n      <td>110.1773</td>\n      <td>67.8780</td>\n      <td>0.8000</td>\n      <td>1.0000</td>\n    </tr>\n  </tbody>\n</table>\n</div>"
     },
     "metadata": {},
     "execution_count": 14
    }
   ],
   "source": [
    "TRL_W21_WK1.head()"
   ]
  },
  {
   "cell_type": "code",
   "execution_count": 20,
   "metadata": {},
   "outputs": [],
   "source": [
    "offensive_df = offensive_stats(TRL_W21_WK1)\n",
    "defensive_df = defensive_stats(TRL_W21_WK1)\n",
    "aggression_df = aggression_stats(TRL_W21_WK1)\n",
    "speed_df = speed_stats(TRL_W21_WK1)"
   ]
  },
  {
   "cell_type": "code",
   "execution_count": 25,
   "metadata": {},
   "outputs": [],
   "source": [
    "standings = generate_overall_standings(TRL_W21_WK1, offensive_df, defensive_df, aggression_df, speed_df)"
   ]
  },
  {
   "cell_type": "code",
   "execution_count": 26,
   "metadata": {},
   "outputs": [
    {
     "output_type": "execute_result",
     "data": {
      "text/plain": [
       "               participant  win rate  Overall  Offense  Defense  Aggression  \\\n",
       "0               invincible      0.55   100.00    90.44    28.42      100.00   \n",
       "1               nsdlakers4      0.40    83.61    81.53    71.32       40.29   \n",
       "2                  ix mini      0.73    80.52   100.00    46.22       45.74   \n",
       "3             greensleeves      0.53    78.58    93.45    48.23       55.88   \n",
       "4          invincibleblaze      0.60    77.98    78.51    15.21       80.50   \n",
       "5                  luisito      0.44    71.05    76.49    57.74       52.48   \n",
       "6                   rj5588      0.11    70.62    85.51   100.00        1.90   \n",
       "7               terminator      0.73    69.29    85.76    42.36       48.40   \n",
       "8                  shaunch      0.50    69.28    73.16    21.79       61.51   \n",
       "9                  muffled      0.45    63.90    79.57    37.13       41.79   \n",
       "10         inf3ct3ds0ldi3r      0.45    62.95    83.02    55.92       30.41   \n",
       "11                   steve      0.57    61.30    82.79    53.14       28.34   \n",
       "12                brictone      0.11    60.58    61.33    60.98       36.63   \n",
       "13                    alex      0.50    56.21    82.52    26.67       33.29   \n",
       "14                 chyaboi      0.47    51.57    58.88    34.47       37.83   \n",
       "15              adamamango      0.56    46.33    53.54    40.87       29.96   \n",
       "16              desolation      0.53    44.01    67.88     4.22       35.49   \n",
       "17        fireyfrenchtoast      0.44    43.79    53.69    14.46       41.41   \n",
       "18                 hotshot      0.56    38.41    47.21    42.06       14.62   \n",
       "19                 minimug      0.50    36.48    51.62    30.87       19.59   \n",
       "20              krystopher      0.33    32.89    29.83    39.64       19.77   \n",
       "21                    luke      0.44    28.51    32.09    43.11       24.82   \n",
       "22                 tgolden      0.53    23.90    34.30    56.75        0.00   \n",
       "23             scootleboot      0.57    23.80    51.72    24.22       11.48   \n",
       "24  kameron (save replays)      0.47    22.72    20.44     3.00       28.33   \n",
       "25   goose's ejection seat      0.73    21.97     7.67     0.34       34.41   \n",
       "26         the monkey dude      0.45    12.92    25.06     0.93       13.82   \n",
       "27             monkenstein      0.57     5.70    11.58    30.09        0.84   \n",
       "28             casillas361      0.50     0.00     0.00     0.00       11.07   \n",
       "\n",
       "     Speed  \n",
       "0    79.40  \n",
       "1   100.00  \n",
       "2    68.83  \n",
       "3    46.19  \n",
       "4    59.76  \n",
       "5    38.88  \n",
       "6    80.46  \n",
       "7    41.84  \n",
       "8    63.84  \n",
       "9    50.56  \n",
       "10   40.57  \n",
       "11   41.53  \n",
       "12   51.21  \n",
       "13   41.22  \n",
       "14   45.03  \n",
       "15   40.16  \n",
       "16   36.19  \n",
       "17   36.03  \n",
       "18   48.66  \n",
       "19   33.81  \n",
       "20   47.90  \n",
       "21    5.75  \n",
       "22   18.73  \n",
       "23    0.00  \n",
       "24   46.32  \n",
       "25   57.56  \n",
       "26   26.23  \n",
       "27    9.68  \n",
       "28   21.45  "
      ],
      "text/html": "<div>\n<style scoped>\n    .dataframe tbody tr th:only-of-type {\n        vertical-align: middle;\n    }\n\n    .dataframe tbody tr th {\n        vertical-align: top;\n    }\n\n    .dataframe thead th {\n        text-align: right;\n    }\n</style>\n<table border=\"1\" class=\"dataframe\">\n  <thead>\n    <tr style=\"text-align: right;\">\n      <th></th>\n      <th>participant</th>\n      <th>win rate</th>\n      <th>Overall</th>\n      <th>Offense</th>\n      <th>Defense</th>\n      <th>Aggression</th>\n      <th>Speed</th>\n    </tr>\n  </thead>\n  <tbody>\n    <tr>\n      <th>0</th>\n      <td>invincible</td>\n      <td>0.55</td>\n      <td>100.00</td>\n      <td>90.44</td>\n      <td>28.42</td>\n      <td>100.00</td>\n      <td>79.40</td>\n    </tr>\n    <tr>\n      <th>1</th>\n      <td>nsdlakers4</td>\n      <td>0.40</td>\n      <td>83.61</td>\n      <td>81.53</td>\n      <td>71.32</td>\n      <td>40.29</td>\n      <td>100.00</td>\n    </tr>\n    <tr>\n      <th>2</th>\n      <td>ix mini</td>\n      <td>0.73</td>\n      <td>80.52</td>\n      <td>100.00</td>\n      <td>46.22</td>\n      <td>45.74</td>\n      <td>68.83</td>\n    </tr>\n    <tr>\n      <th>3</th>\n      <td>greensleeves</td>\n      <td>0.53</td>\n      <td>78.58</td>\n      <td>93.45</td>\n      <td>48.23</td>\n      <td>55.88</td>\n      <td>46.19</td>\n    </tr>\n    <tr>\n      <th>4</th>\n      <td>invincibleblaze</td>\n      <td>0.60</td>\n      <td>77.98</td>\n      <td>78.51</td>\n      <td>15.21</td>\n      <td>80.50</td>\n      <td>59.76</td>\n    </tr>\n    <tr>\n      <th>5</th>\n      <td>luisito</td>\n      <td>0.44</td>\n      <td>71.05</td>\n      <td>76.49</td>\n      <td>57.74</td>\n      <td>52.48</td>\n      <td>38.88</td>\n    </tr>\n    <tr>\n      <th>6</th>\n      <td>rj5588</td>\n      <td>0.11</td>\n      <td>70.62</td>\n      <td>85.51</td>\n      <td>100.00</td>\n      <td>1.90</td>\n      <td>80.46</td>\n    </tr>\n    <tr>\n      <th>7</th>\n      <td>terminator</td>\n      <td>0.73</td>\n      <td>69.29</td>\n      <td>85.76</td>\n      <td>42.36</td>\n      <td>48.40</td>\n      <td>41.84</td>\n    </tr>\n    <tr>\n      <th>8</th>\n      <td>shaunch</td>\n      <td>0.50</td>\n      <td>69.28</td>\n      <td>73.16</td>\n      <td>21.79</td>\n      <td>61.51</td>\n      <td>63.84</td>\n    </tr>\n    <tr>\n      <th>9</th>\n      <td>muffled</td>\n      <td>0.45</td>\n      <td>63.90</td>\n      <td>79.57</td>\n      <td>37.13</td>\n      <td>41.79</td>\n      <td>50.56</td>\n    </tr>\n    <tr>\n      <th>10</th>\n      <td>inf3ct3ds0ldi3r</td>\n      <td>0.45</td>\n      <td>62.95</td>\n      <td>83.02</td>\n      <td>55.92</td>\n      <td>30.41</td>\n      <td>40.57</td>\n    </tr>\n    <tr>\n      <th>11</th>\n      <td>steve</td>\n      <td>0.57</td>\n      <td>61.30</td>\n      <td>82.79</td>\n      <td>53.14</td>\n      <td>28.34</td>\n      <td>41.53</td>\n    </tr>\n    <tr>\n      <th>12</th>\n      <td>brictone</td>\n      <td>0.11</td>\n      <td>60.58</td>\n      <td>61.33</td>\n      <td>60.98</td>\n      <td>36.63</td>\n      <td>51.21</td>\n    </tr>\n    <tr>\n      <th>13</th>\n      <td>alex</td>\n      <td>0.50</td>\n      <td>56.21</td>\n      <td>82.52</td>\n      <td>26.67</td>\n      <td>33.29</td>\n      <td>41.22</td>\n    </tr>\n    <tr>\n      <th>14</th>\n      <td>chyaboi</td>\n      <td>0.47</td>\n      <td>51.57</td>\n      <td>58.88</td>\n      <td>34.47</td>\n      <td>37.83</td>\n      <td>45.03</td>\n    </tr>\n    <tr>\n      <th>15</th>\n      <td>adamamango</td>\n      <td>0.56</td>\n      <td>46.33</td>\n      <td>53.54</td>\n      <td>40.87</td>\n      <td>29.96</td>\n      <td>40.16</td>\n    </tr>\n    <tr>\n      <th>16</th>\n      <td>desolation</td>\n      <td>0.53</td>\n      <td>44.01</td>\n      <td>67.88</td>\n      <td>4.22</td>\n      <td>35.49</td>\n      <td>36.19</td>\n    </tr>\n    <tr>\n      <th>17</th>\n      <td>fireyfrenchtoast</td>\n      <td>0.44</td>\n      <td>43.79</td>\n      <td>53.69</td>\n      <td>14.46</td>\n      <td>41.41</td>\n      <td>36.03</td>\n    </tr>\n    <tr>\n      <th>18</th>\n      <td>hotshot</td>\n      <td>0.56</td>\n      <td>38.41</td>\n      <td>47.21</td>\n      <td>42.06</td>\n      <td>14.62</td>\n      <td>48.66</td>\n    </tr>\n    <tr>\n      <th>19</th>\n      <td>minimug</td>\n      <td>0.50</td>\n      <td>36.48</td>\n      <td>51.62</td>\n      <td>30.87</td>\n      <td>19.59</td>\n      <td>33.81</td>\n    </tr>\n    <tr>\n      <th>20</th>\n      <td>krystopher</td>\n      <td>0.33</td>\n      <td>32.89</td>\n      <td>29.83</td>\n      <td>39.64</td>\n      <td>19.77</td>\n      <td>47.90</td>\n    </tr>\n    <tr>\n      <th>21</th>\n      <td>luke</td>\n      <td>0.44</td>\n      <td>28.51</td>\n      <td>32.09</td>\n      <td>43.11</td>\n      <td>24.82</td>\n      <td>5.75</td>\n    </tr>\n    <tr>\n      <th>22</th>\n      <td>tgolden</td>\n      <td>0.53</td>\n      <td>23.90</td>\n      <td>34.30</td>\n      <td>56.75</td>\n      <td>0.00</td>\n      <td>18.73</td>\n    </tr>\n    <tr>\n      <th>23</th>\n      <td>scootleboot</td>\n      <td>0.57</td>\n      <td>23.80</td>\n      <td>51.72</td>\n      <td>24.22</td>\n      <td>11.48</td>\n      <td>0.00</td>\n    </tr>\n    <tr>\n      <th>24</th>\n      <td>kameron (save replays)</td>\n      <td>0.47</td>\n      <td>22.72</td>\n      <td>20.44</td>\n      <td>3.00</td>\n      <td>28.33</td>\n      <td>46.32</td>\n    </tr>\n    <tr>\n      <th>25</th>\n      <td>goose's ejection seat</td>\n      <td>0.73</td>\n      <td>21.97</td>\n      <td>7.67</td>\n      <td>0.34</td>\n      <td>34.41</td>\n      <td>57.56</td>\n    </tr>\n    <tr>\n      <th>26</th>\n      <td>the monkey dude</td>\n      <td>0.45</td>\n      <td>12.92</td>\n      <td>25.06</td>\n      <td>0.93</td>\n      <td>13.82</td>\n      <td>26.23</td>\n    </tr>\n    <tr>\n      <th>27</th>\n      <td>monkenstein</td>\n      <td>0.57</td>\n      <td>5.70</td>\n      <td>11.58</td>\n      <td>30.09</td>\n      <td>0.84</td>\n      <td>9.68</td>\n    </tr>\n    <tr>\n      <th>28</th>\n      <td>casillas361</td>\n      <td>0.50</td>\n      <td>0.00</td>\n      <td>0.00</td>\n      <td>0.00</td>\n      <td>11.07</td>\n      <td>21.45</td>\n    </tr>\n  </tbody>\n</table>\n</div>"
     },
     "metadata": {},
     "execution_count": 26
    }
   ],
   "source": [
    "standings"
   ]
  },
  {
   "cell_type": "code",
   "execution_count": null,
   "metadata": {},
   "outputs": [],
   "source": []
  }
 ]
}