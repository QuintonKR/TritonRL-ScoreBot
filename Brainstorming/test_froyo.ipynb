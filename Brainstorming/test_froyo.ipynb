{
 "metadata": {
  "language_info": {
   "codemirror_mode": {
    "name": "ipython",
    "version": 3
   },
   "file_extension": ".py",
   "mimetype": "text/x-python",
   "name": "python",
   "nbconvert_exporter": "python",
   "pygments_lexer": "ipython3",
   "version": "3.8.3"
  },
  "orig_nbformat": 2,
  "kernelspec": {
   "name": "python3",
   "display_name": "Python 3",
   "language": "python"
  }
 },
 "nbformat": 4,
 "nbformat_minor": 2,
 "cells": [
  {
   "cell_type": "code",
   "execution_count": 18,
   "metadata": {},
   "outputs": [
    {
     "output_type": "execute_result",
     "data": {
      "text/plain": [
       "'[smiggy,OVR,0,TRL,95,96,93,60,61,57,1,LEGEND]'"
      ]
     },
     "metadata": {},
     "execution_count": 18
    }
   ],
   "source": [
    "input_string"
   ]
  },
  {
   "cell_type": "code",
   "execution_count": 1,
   "metadata": {},
   "outputs": [],
   "source": [
    "import pandas as pd\n",
    "author = 'Goofy#8725'\n",
    "player_names_fp = r'.\\output\\playercard_stats.csv'\n",
    "df = pd.read_csv(player_names_fp, index_col=0)\n",
    "df = df.fillna('N/A')\n",
    "dd = df.to_dict('index')\n",
    "player = 'goofy'"
   ]
  },
  {
   "cell_type": "code",
   "execution_count": 2,
   "metadata": {},
   "outputs": [],
   "source": [
    "# Default Images \n",
    "default_rank = 'https://cdn.discordapp.com/attachments/766119517503619097/805555338807345162/white-question-mark-emoji-removebg-preview.png' # Default Unknown Rank\n",
    "default_logo = 'https://cdn.discordapp.com/attachments/764281194631397416/772652236249104384/tritonrl_logo-removebg-preview_1.png' # Triton Rocket League Logo\n",
    "default_img = 'c:\\\\Users\\\\dmarc\\\\OneDrive\\\\Documents\\\\Github\\\\Personal Projects\\\\TritonRL-ScoreBot\\\\assets\\\\default_imgs\\\\default_player_avatar.png' # Locked Character Avatar"
   ]
  },
  {
   "cell_type": "code",
   "execution_count": 3,
   "metadata": {},
   "outputs": [],
   "source": [
    "test_data = dd[player]"
   ]
  },
  {
   "cell_type": "code",
   "execution_count": 4,
   "metadata": {},
   "outputs": [
    {
     "output_type": "execute_result",
     "data": {
      "text/plain": [
       "{'ranking': 13,\n",
       " 'win rate': 0.0,\n",
       " 'Overall': 81.37,\n",
       " 'Offense': 76.24,\n",
       " 'Defense': 100.0,\n",
       " 'Aggression': 15.69,\n",
       " 'Speed': 31.93,\n",
       " 'discord_username': 'Goofy#8725',\n",
       " 'playercard_name': 'GFY',\n",
       " 'img_filepath': 'c:/Users/dmarc/OneDrive/Documents/Github/Personal Projects/TritonRL-ScoreBot/assets/playercard_imgs/Goofy#8725.png',\n",
       " 'rank': 'Grand Champion I'}"
      ]
     },
     "metadata": {},
     "execution_count": 4
    }
   ],
   "source": [
    "test_data"
   ]
  },
  {
   "cell_type": "code",
   "execution_count": 5,
   "metadata": {},
   "outputs": [],
   "source": [
    "import re\n",
    "from os import environ\n",
    "import sys\n",
    "\n",
    "from cardcreator import render_card\n",
    "from src.playercard_generation.style.exceptions import *\n",
    "from src.playercard_generation.style.player import Player"
   ]
  },
  {
   "cell_type": "code",
   "execution_count": 6,
   "metadata": {},
   "outputs": [],
   "source": [
    "def create(player_information, player):\n",
    "\n",
    "    dynamic_fl = False\n",
    "    # Now we have if they used !update_name, then the file will be saved as their specified name\n",
    "    # Otherwise, the file is saved under their ballchasing name. In order to access it, they need to use \n",
    "    # the '!update_name' command\n",
    "    card_name = player_information['playercard_name']\n",
    "    position_ovr = 'OVR'\n",
    "    r = int(player_information['Overall'])\n",
    "    rating = str(r)\n",
    "    off_stat = str(int(player_information['Offense']))\n",
    "    def_stat = str(int(player_information['Defense']))\n",
    "    agg_stat = str(int(player_information['Aggression']))\n",
    "    spd_stat = str(int(player_information['Speed']))\n",
    "    win_stat = str(int(player_information['win rate']*100))\n",
    "    rank_stat = str(int(player_information['ranking']))\n",
    "\n",
    "    #choose card type based off of overall\n",
    "    if r > 90:\n",
    "        card_code = \"Freeze\"\n",
    "    elif r > 80:\n",
    "        card_code = \"Headliners\"\n",
    "    elif r > 70:\n",
    "        card_code = \"Gold\"\n",
    "    elif r > 60:\n",
    "        card_code = \"Silver\"\n",
    "    else:\n",
    "        card_code = \"Bronze\"\n",
    "\n",
    "    card_code = \"Bronze\"\n",
    "\n",
    "    # Check to see if player updated their playercard name, otherwise use their ballchasing name. \n",
    "    # This will also be the name of the playercard file after it is saved locally. \n",
    "    if card_name != 'N/A':\n",
    "        card_name = card_name\n",
    "    else:\n",
    "        card_name = player\n",
    "\n",
    "    # Check to see if nation key (rank) is 'N/A', if it isnt 'N/A', get image fp from the dictionary.\n",
    "    player_rank = str(player_information['rank'])\n",
    "    if player_rank != 'N/A':\n",
    "        rank_img = player_rank\n",
    "    else:\n",
    "        rank_img = default_rank\n",
    "\n",
    "    # Check to see if avatar key is 'N/A', if it isnt 'N/A', get image fp from the dictionary.\n",
    "    avatar_key = player_information['img_filepath']\n",
    "    if avatar_key != 'N/A':\n",
    "        avatar = avatar_key\n",
    "    else:\n",
    "        avatar = r'.assets\\default_imgs\\default_player_avatar.png'\n",
    "\n",
    "    # attempt to get the optional language code later on\n",
    "    lang_code = 'EN'\n",
    "\n",
    "\n",
    "    try:\n",
    "        player = Player(\n",
    "            card_name, 'OVR', rank_img, 'TRL', \n",
    "            rating, off_stat, def_stat, agg_stat, spd_stat, win_stat, \n",
    "            rank_stat, lang_code\n",
    "            )\n",
    "        path_to_card_img = render_card(\n",
    "            player, card_code, avatar, dynamic_fl, user # avatar is used for image_url argument\n",
    "            )\n",
    "    except FileNotFoundError as err:\n",
    "        print('File not found')\n",
    "        return\n",
    "    except InvalidCardCodeError:\n",
    "        print('invalid card code')\n",
    "        return\n",
    "    except InvalidCountryCodeError:\n",
    "        print('invalid country code')\n",
    "        return\n",
    "    except InvalidClubNumberError:\n",
    "        print('invalid club error')\n",
    "        return\n",
    "    except InvalidPositionError:\n",
    "        print('invalid position error')\n",
    "        return\n",
    "    except InvalidLanguageError:\n",
    "        print('invalid language error')\n",
    "        return\n",
    "\n",
    "    return path_to_card_img\n"
   ]
  },
  {
   "cell_type": "code",
   "execution_count": 7,
   "metadata": {},
   "outputs": [],
   "source": [
    "# This currently works, need to tweak things for better visual results, and add this code to bot. Fix rl_rank_imgs names to remove rank_dic "
   ]
  },
  {
   "cell_type": "code",
   "execution_count": 8,
   "metadata": {},
   "outputs": [
    {
     "output_type": "execute_result",
     "data": {
      "text/plain": [
       "'./playercards/auto_generated/goofy.png'"
      ]
     },
     "metadata": {},
     "execution_count": 8
    }
   ],
   "source": [
    "user = 'Goofy#8725'\n",
    "user = user.split('#')[0].lower()\n",
    "player = create(test_data, user)\n",
    "player"
   ]
  },
  {
   "cell_type": "code",
   "execution_count": null,
   "metadata": {},
   "outputs": [],
   "source": []
  },
  {
   "cell_type": "code",
   "execution_count": null,
   "metadata": {},
   "outputs": [],
   "source": []
  },
  {
   "cell_type": "code",
   "execution_count": null,
   "metadata": {},
   "outputs": [],
   "source": []
  },
  {
   "cell_type": "code",
   "execution_count": null,
   "metadata": {},
   "outputs": [],
   "source": []
  },
  {
   "cell_type": "code",
   "execution_count": null,
   "metadata": {},
   "outputs": [],
   "source": []
  },
  {
   "cell_type": "code",
   "execution_count": null,
   "metadata": {},
   "outputs": [],
   "source": []
  },
  {
   "cell_type": "code",
   "execution_count": null,
   "metadata": {},
   "outputs": [],
   "source": []
  }
 ]
}